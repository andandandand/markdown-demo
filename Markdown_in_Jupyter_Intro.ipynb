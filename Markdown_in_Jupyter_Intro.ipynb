{
  "nbformat": 4,
  "nbformat_minor": 0,
  "metadata": {
    "colab": {
      "name": "Markdown in Jupyter Intro.ipynb",
      "version": "0.3.2",
      "provenance": [],
      "include_colab_link": true
    },
    "kernelspec": {
      "name": "python3",
      "display_name": "Python 3"
    }
  },
  "cells": [
    {
      "cell_type": "markdown",
      "metadata": {
        "id": "view-in-github",
        "colab_type": "text"
      },
      "source": [
        "<a href=\"https://colab.research.google.com/github/andandandand/markdown-demo/blob/master/Markdown_in_Jupyter_Intro.ipynb\" target=\"_parent\"><img src=\"https://colab.research.google.com/assets/colab-badge.svg\" alt=\"Open In Colab\"/></a>"
      ]
    },
    {
      "metadata": {
        "id": "LR92HTOH2caQ",
        "colab_type": "text"
      },
      "cell_type": "markdown",
      "source": [
        "# Markdown basics\n",
        "\n",
        "Markdown is a simplified version of html. Here we don't need to use tags like <h1></h1>  to specify titles for example, but they still work.\n",
        "\n",
        "<h1>This is a title (header of level 1)</h1>\n",
        "\n",
        "# This is also a title \n",
        "\n",
        "<h2>This is a header of level 2</h2>\n",
        "\n",
        "## This is also a header of level 2\n",
        "\n",
        "![this is alt-text for an image](https://github.com/andandandand/images-for-colab-notebooks/blob/master/3d-GrowCut-brain.PNG?raw=true)\n",
        "\n",
        "https://github.com/adam-p/markdown-here/wiki/Markdown-Cheatsheet\n",
        "\n",
        "<!-- this is a comment in both markdown and html-->\n",
        "\n",
        "<!-- This an equation written in MathJax, which is an implemetation LaTeX --> \n",
        "\n",
        "To write equations in markdown, we use text withing dollar signs $ $ \n",
        "$P(A|B) = \\frac{P(B|A) P(A)}{P(B)}$\n",
        "\n",
        "$$P(A|B) = \\frac{P(B|A) P(A)}{P(B)}$$\n"
      ]
    }
  ]
}